{
 "cells": [
  {
   "cell_type": "code",
   "execution_count": 1,
   "id": "14724775",
   "metadata": {},
   "outputs": [],
   "source": [
    "import pandas as pd\n",
    "import numpy as np\n",
    "import matplotlib.pyplot as plt"
   ]
  },
  {
   "cell_type": "code",
   "execution_count": 2,
   "id": "c5976d10",
   "metadata": {},
   "outputs": [],
   "source": [
    "df_rf = pd.read_csv(\"random_forest_prediction_3mo.csv\")\n",
    "df_lr = pd.read_csv(\"linear_prediction_3mo.csv\")\n",
    "df_lstm = pd.read_csv(\"LSTM_predictions.csv\")"
   ]
  },
  {
   "cell_type": "code",
   "execution_count": 3,
   "id": "0c69d4d8",
   "metadata": {},
   "outputs": [],
   "source": [
    "df_rf = df_rf.rename(columns={'Predicted_Pct':'RF_Predicted_Pct'})\n",
    "df_lstm = df_lstm.rename(columns={'y_predict':'LSTM_Predicted_Pct'})\n",
    "df_lr = df_lr.rename(columns={'Predicted_Pct':'LR_Predicted_Pct'})"
   ]
  },
  {
   "cell_type": "code",
   "execution_count": 4,
   "id": "86f33f81",
   "metadata": {},
   "outputs": [
    {
     "data": {
      "text/html": [
       "<div>\n",
       "<style scoped>\n",
       "    .dataframe tbody tr th:only-of-type {\n",
       "        vertical-align: middle;\n",
       "    }\n",
       "\n",
       "    .dataframe tbody tr th {\n",
       "        vertical-align: top;\n",
       "    }\n",
       "\n",
       "    .dataframe thead th {\n",
       "        text-align: right;\n",
       "    }\n",
       "</style>\n",
       "<table border=\"1\" class=\"dataframe\">\n",
       "  <thead>\n",
       "    <tr style=\"text-align: right;\">\n",
       "      <th></th>\n",
       "      <th>FIPS</th>\n",
       "      <th>Date</th>\n",
       "      <th>LSTM_Predicted_Pct</th>\n",
       "    </tr>\n",
       "  </thead>\n",
       "  <tbody>\n",
       "    <tr>\n",
       "      <th>0</th>\n",
       "      <td>1001</td>\n",
       "      <td>2022-04-30</td>\n",
       "      <td>0.322111</td>\n",
       "    </tr>\n",
       "    <tr>\n",
       "      <th>1</th>\n",
       "      <td>1001</td>\n",
       "      <td>2022-05-31</td>\n",
       "      <td>0.308997</td>\n",
       "    </tr>\n",
       "    <tr>\n",
       "      <th>2</th>\n",
       "      <td>1001</td>\n",
       "      <td>2022-06-29</td>\n",
       "      <td>0.288152</td>\n",
       "    </tr>\n",
       "    <tr>\n",
       "      <th>3</th>\n",
       "      <td>1003</td>\n",
       "      <td>2022-04-30</td>\n",
       "      <td>0.292741</td>\n",
       "    </tr>\n",
       "    <tr>\n",
       "      <th>4</th>\n",
       "      <td>1003</td>\n",
       "      <td>2022-05-31</td>\n",
       "      <td>0.276235</td>\n",
       "    </tr>\n",
       "  </tbody>\n",
       "</table>\n",
       "</div>"
      ],
      "text/plain": [
       "   FIPS        Date  LSTM_Predicted_Pct\n",
       "0  1001  2022-04-30            0.322111\n",
       "1  1001  2022-05-31            0.308997\n",
       "2  1001  2022-06-29            0.288152\n",
       "3  1003  2022-04-30            0.292741\n",
       "4  1003  2022-05-31            0.276235"
      ]
     },
     "execution_count": 4,
     "metadata": {},
     "output_type": "execute_result"
    }
   ],
   "source": [
    "df_lr = df_lr.drop(['Recip_County', 'Recip_State', 'Death_Pct'], axis=1)\n",
    "df_lstm = df_lstm.drop(['Unnamed: 0', 'Death_Pct'], axis=1)\n",
    "\n",
    "df_lstm.head()"
   ]
  },
  {
   "cell_type": "code",
   "execution_count": 5,
   "id": "5b55fae1",
   "metadata": {},
   "outputs": [
    {
     "data": {
      "text/plain": [
       "(9236, 6)"
      ]
     },
     "execution_count": 5,
     "metadata": {},
     "output_type": "execute_result"
    }
   ],
   "source": [
    "#df_lstm.shape\n",
    "df_rf.shape"
   ]
  },
  {
   "cell_type": "code",
   "execution_count": 6,
   "id": "93a15b81",
   "metadata": {},
   "outputs": [
    {
     "data": {
      "text/html": [
       "<div>\n",
       "<style scoped>\n",
       "    .dataframe tbody tr th:only-of-type {\n",
       "        vertical-align: middle;\n",
       "    }\n",
       "\n",
       "    .dataframe tbody tr th {\n",
       "        vertical-align: top;\n",
       "    }\n",
       "\n",
       "    .dataframe thead th {\n",
       "        text-align: right;\n",
       "    }\n",
       "</style>\n",
       "<table border=\"1\" class=\"dataframe\">\n",
       "  <thead>\n",
       "    <tr style=\"text-align: right;\">\n",
       "      <th></th>\n",
       "      <th>Date</th>\n",
       "      <th>FIPS</th>\n",
       "      <th>Recip_County</th>\n",
       "      <th>Recip_State</th>\n",
       "      <th>Death_Pct</th>\n",
       "      <th>RF_Predicted_Pct</th>\n",
       "      <th>LR_Predicted_Pct</th>\n",
       "      <th>LSTM_Predicted_Pct</th>\n",
       "    </tr>\n",
       "  </thead>\n",
       "  <tbody>\n",
       "    <tr>\n",
       "      <th>0</th>\n",
       "      <td>2022-04-30</td>\n",
       "      <td>1001</td>\n",
       "      <td>Autauga County</td>\n",
       "      <td>AL</td>\n",
       "      <td>0.195099</td>\n",
       "      <td>0.187225</td>\n",
       "      <td>0.152263</td>\n",
       "      <td>0.322111</td>\n",
       "    </tr>\n",
       "    <tr>\n",
       "      <th>1</th>\n",
       "      <td>2022-04-30</td>\n",
       "      <td>1003</td>\n",
       "      <td>Baldwin County</td>\n",
       "      <td>AL</td>\n",
       "      <td>0.167537</td>\n",
       "      <td>0.161193</td>\n",
       "      <td>0.115595</td>\n",
       "      <td>0.292741</td>\n",
       "    </tr>\n",
       "    <tr>\n",
       "      <th>2</th>\n",
       "      <td>2022-04-30</td>\n",
       "      <td>1005</td>\n",
       "      <td>Barbour County</td>\n",
       "      <td>AL</td>\n",
       "      <td>0.170137</td>\n",
       "      <td>0.174560</td>\n",
       "      <td>0.231504</td>\n",
       "      <td>0.291800</td>\n",
       "    </tr>\n",
       "    <tr>\n",
       "      <th>3</th>\n",
       "      <td>2022-04-30</td>\n",
       "      <td>1007</td>\n",
       "      <td>Bibb County</td>\n",
       "      <td>AL</td>\n",
       "      <td>0.183085</td>\n",
       "      <td>0.185540</td>\n",
       "      <td>0.224286</td>\n",
       "      <td>0.258476</td>\n",
       "    </tr>\n",
       "    <tr>\n",
       "      <th>4</th>\n",
       "      <td>2022-04-30</td>\n",
       "      <td>1009</td>\n",
       "      <td>Blount County</td>\n",
       "      <td>AL</td>\n",
       "      <td>0.186767</td>\n",
       "      <td>0.178715</td>\n",
       "      <td>0.182657</td>\n",
       "      <td>0.288832</td>\n",
       "    </tr>\n",
       "  </tbody>\n",
       "</table>\n",
       "</div>"
      ],
      "text/plain": [
       "         Date  FIPS    Recip_County Recip_State  Death_Pct  RF_Predicted_Pct  \\\n",
       "0  2022-04-30  1001  Autauga County          AL   0.195099          0.187225   \n",
       "1  2022-04-30  1003  Baldwin County          AL   0.167537          0.161193   \n",
       "2  2022-04-30  1005  Barbour County          AL   0.170137          0.174560   \n",
       "3  2022-04-30  1007     Bibb County          AL   0.183085          0.185540   \n",
       "4  2022-04-30  1009   Blount County          AL   0.186767          0.178715   \n",
       "\n",
       "   LR_Predicted_Pct  LSTM_Predicted_Pct  \n",
       "0          0.152263            0.322111  \n",
       "1          0.115595            0.292741  \n",
       "2          0.231504            0.291800  \n",
       "3          0.224286            0.258476  \n",
       "4          0.182657            0.288832  "
      ]
     },
     "execution_count": 6,
     "metadata": {},
     "output_type": "execute_result"
    }
   ],
   "source": [
    "df_3mo = pd.merge(df_rf, df_lr, on=['Date', 'FIPS'], how='inner')\n",
    "df_3mo = pd.merge(df_3mo, df_lstm, on=['Date', 'FIPS'], how='inner')\n",
    "\n",
    "df_3mo.head()"
   ]
  },
  {
   "cell_type": "code",
   "execution_count": 7,
   "id": "f1e8b6e3",
   "metadata": {},
   "outputs": [],
   "source": [
    "df_3mo['RF_diff_Pct'] = (df_3mo['Death_Pct'] - df_3mo['RF_Predicted_Pct'])\n",
    "df_3mo['LR_diff_Pct'] = (df_3mo['Death_Pct'] - df_3mo['LR_Predicted_Pct'])\n",
    "df_3mo['LSTM_diff_Pct'] = (df_3mo['Death_Pct'] - df_3mo['LSTM_Predicted_Pct'])"
   ]
  },
  {
   "cell_type": "code",
   "execution_count": 8,
   "id": "0b47ad2d",
   "metadata": {},
   "outputs": [
    {
     "name": "stdout",
     "output_type": "stream",
     "text": [
      "(3024, 11)\n"
     ]
    },
    {
     "data": {
      "text/html": [
       "<div>\n",
       "<style scoped>\n",
       "    .dataframe tbody tr th:only-of-type {\n",
       "        vertical-align: middle;\n",
       "    }\n",
       "\n",
       "    .dataframe tbody tr th {\n",
       "        vertical-align: top;\n",
       "    }\n",
       "\n",
       "    .dataframe thead th {\n",
       "        text-align: right;\n",
       "    }\n",
       "</style>\n",
       "<table border=\"1\" class=\"dataframe\">\n",
       "  <thead>\n",
       "    <tr style=\"text-align: right;\">\n",
       "      <th></th>\n",
       "      <th>Date</th>\n",
       "      <th>FIPS</th>\n",
       "      <th>Recip_County</th>\n",
       "      <th>Recip_State</th>\n",
       "      <th>Death_Pct</th>\n",
       "      <th>RF_Predicted_Pct</th>\n",
       "      <th>LR_Predicted_Pct</th>\n",
       "      <th>LSTM_Predicted_Pct</th>\n",
       "      <th>RF_diff_Pct</th>\n",
       "      <th>LR_diff_Pct</th>\n",
       "      <th>LSTM_diff_Pct</th>\n",
       "    </tr>\n",
       "  </thead>\n",
       "  <tbody>\n",
       "    <tr>\n",
       "      <th>0</th>\n",
       "      <td>2022-04-30</td>\n",
       "      <td>1001</td>\n",
       "      <td>Autauga County</td>\n",
       "      <td>AL</td>\n",
       "      <td>0.195099</td>\n",
       "      <td>0.187225</td>\n",
       "      <td>0.152263</td>\n",
       "      <td>0.322111</td>\n",
       "      <td>0.007874</td>\n",
       "      <td>0.042836</td>\n",
       "      <td>-0.127012</td>\n",
       "    </tr>\n",
       "    <tr>\n",
       "      <th>1</th>\n",
       "      <td>2022-04-30</td>\n",
       "      <td>1003</td>\n",
       "      <td>Baldwin County</td>\n",
       "      <td>AL</td>\n",
       "      <td>0.167537</td>\n",
       "      <td>0.161193</td>\n",
       "      <td>0.115595</td>\n",
       "      <td>0.292741</td>\n",
       "      <td>0.006344</td>\n",
       "      <td>0.051942</td>\n",
       "      <td>-0.125204</td>\n",
       "    </tr>\n",
       "    <tr>\n",
       "      <th>2</th>\n",
       "      <td>2022-04-30</td>\n",
       "      <td>1005</td>\n",
       "      <td>Barbour County</td>\n",
       "      <td>AL</td>\n",
       "      <td>0.170137</td>\n",
       "      <td>0.174560</td>\n",
       "      <td>0.231504</td>\n",
       "      <td>0.291800</td>\n",
       "      <td>-0.004423</td>\n",
       "      <td>-0.061367</td>\n",
       "      <td>-0.121663</td>\n",
       "    </tr>\n",
       "    <tr>\n",
       "      <th>3</th>\n",
       "      <td>2022-04-30</td>\n",
       "      <td>1007</td>\n",
       "      <td>Bibb County</td>\n",
       "      <td>AL</td>\n",
       "      <td>0.183085</td>\n",
       "      <td>0.185540</td>\n",
       "      <td>0.224286</td>\n",
       "      <td>0.258476</td>\n",
       "      <td>-0.002455</td>\n",
       "      <td>-0.041201</td>\n",
       "      <td>-0.075392</td>\n",
       "    </tr>\n",
       "    <tr>\n",
       "      <th>4</th>\n",
       "      <td>2022-04-30</td>\n",
       "      <td>1009</td>\n",
       "      <td>Blount County</td>\n",
       "      <td>AL</td>\n",
       "      <td>0.186767</td>\n",
       "      <td>0.178715</td>\n",
       "      <td>0.182657</td>\n",
       "      <td>0.288832</td>\n",
       "      <td>0.008052</td>\n",
       "      <td>0.004110</td>\n",
       "      <td>-0.102065</td>\n",
       "    </tr>\n",
       "  </tbody>\n",
       "</table>\n",
       "</div>"
      ],
      "text/plain": [
       "         Date  FIPS    Recip_County Recip_State  Death_Pct  RF_Predicted_Pct  \\\n",
       "0  2022-04-30  1001  Autauga County          AL   0.195099          0.187225   \n",
       "1  2022-04-30  1003  Baldwin County          AL   0.167537          0.161193   \n",
       "2  2022-04-30  1005  Barbour County          AL   0.170137          0.174560   \n",
       "3  2022-04-30  1007     Bibb County          AL   0.183085          0.185540   \n",
       "4  2022-04-30  1009   Blount County          AL   0.186767          0.178715   \n",
       "\n",
       "   LR_Predicted_Pct  LSTM_Predicted_Pct  RF_diff_Pct  LR_diff_Pct  \\\n",
       "0          0.152263            0.322111     0.007874     0.042836   \n",
       "1          0.115595            0.292741     0.006344     0.051942   \n",
       "2          0.231504            0.291800    -0.004423    -0.061367   \n",
       "3          0.224286            0.258476    -0.002455    -0.041201   \n",
       "4          0.182657            0.288832     0.008052     0.004110   \n",
       "\n",
       "   LSTM_diff_Pct  \n",
       "0      -0.127012  \n",
       "1      -0.125204  \n",
       "2      -0.121663  \n",
       "3      -0.075392  \n",
       "4      -0.102065  "
      ]
     },
     "execution_count": 8,
     "metadata": {},
     "output_type": "execute_result"
    }
   ],
   "source": [
    "df_1mo = df_3mo[df_3mo['Date'] == '2022-04-30']\n",
    "print(df_1mo.shape)\n",
    "df_1mo.head()"
   ]
  },
  {
   "cell_type": "code",
   "execution_count": 9,
   "id": "1a38ad2c",
   "metadata": {},
   "outputs": [
    {
     "data": {
      "image/png": "[encoded data removed]",
      "text/plain": [
       "<Figure size 432x288 with 1 Axes>"
      ]
     },
     "metadata": {
      "needs_background": "light"
     },
     "output_type": "display_data"
    }
   ],
   "source": [
    "plt.hist(df_1mo['LR_diff_Pct'], bins=20, density=True, alpha=0.6, label='Linear Regression')\n",
    "plt.hist(df_1mo['RF_diff_Pct'], bins=20, density=True, alpha=0.6, label='Random Forest')\n",
    "plt.hist(df_1mo['LSTM_diff_Pct'], bins=20, density=True, alpha=0.6, label='LSTM')\n",
    "\n",
    "plt.xlabel('Difference From Actual Death Percentage(%)')\n",
    "plt.ylabel('Density')\n",
    "plt.title('Performance Between Models -  1 Months')\n",
    "plt.legend(loc='upper right')\n",
    "plt.show()"
   ]
  },
  {
   "cell_type": "code",
   "execution_count": 10,
   "id": "6313e40d",
   "metadata": {},
   "outputs": [
    {
     "name": "stderr",
     "output_type": "stream",
     "text": [
      "/var/folders/gf/xh32vxyd5bggbzdctpzlnqk80000gn/T/ipykernel_19585/325621330.py:1: FutureWarning: Indexing with multiple keys (implicitly converted to a tuple of keys) will be deprecated, use a list instead.\n",
      "  df_3mo_cum = df_3mo.groupby('FIPS')['Death_Pct', 'RF_Predicted_Pct', 'LR_Predicted_Pct',\n"
     ]
    }
   ],
   "source": [
    "df_3mo_cum = df_3mo.groupby('FIPS')['Death_Pct', 'RF_Predicted_Pct', 'LR_Predicted_Pct',\n",
    "                                    'LSTM_Predicted_Pct'].sum().reset_index()"
   ]
  },
  {
   "cell_type": "code",
   "execution_count": 11,
   "id": "c7e684a9",
   "metadata": {},
   "outputs": [
    {
     "data": {
      "text/html": [
       "<div>\n",
       "<style scoped>\n",
       "    .dataframe tbody tr th:only-of-type {\n",
       "        vertical-align: middle;\n",
       "    }\n",
       "\n",
       "    .dataframe tbody tr th {\n",
       "        vertical-align: top;\n",
       "    }\n",
       "\n",
       "    .dataframe thead th {\n",
       "        text-align: right;\n",
       "    }\n",
       "</style>\n",
       "<table border=\"1\" class=\"dataframe\">\n",
       "  <thead>\n",
       "    <tr style=\"text-align: right;\">\n",
       "      <th></th>\n",
       "      <th>FIPS</th>\n",
       "      <th>Death_Pct</th>\n",
       "      <th>RF_Predicted_Pct</th>\n",
       "      <th>LR_Predicted_Pct</th>\n",
       "      <th>LSTM_Predicted_Pct</th>\n",
       "    </tr>\n",
       "  </thead>\n",
       "  <tbody>\n",
       "    <tr>\n",
       "      <th>0</th>\n",
       "      <td>1001</td>\n",
       "      <td>0.587088</td>\n",
       "      <td>0.570842</td>\n",
       "      <td>0.456893</td>\n",
       "      <td>0.919261</td>\n",
       "    </tr>\n",
       "    <tr>\n",
       "      <th>1</th>\n",
       "      <td>1003</td>\n",
       "      <td>0.505299</td>\n",
       "      <td>0.485169</td>\n",
       "      <td>0.350736</td>\n",
       "      <td>0.825079</td>\n",
       "    </tr>\n",
       "    <tr>\n",
       "      <th>2</th>\n",
       "      <td>1005</td>\n",
       "      <td>0.518513</td>\n",
       "      <td>0.530603</td>\n",
       "      <td>0.694349</td>\n",
       "      <td>0.812359</td>\n",
       "    </tr>\n",
       "    <tr>\n",
       "      <th>3</th>\n",
       "      <td>1007</td>\n",
       "      <td>0.558185</td>\n",
       "      <td>0.566674</td>\n",
       "      <td>0.678113</td>\n",
       "      <td>0.808213</td>\n",
       "    </tr>\n",
       "    <tr>\n",
       "      <th>4</th>\n",
       "      <td>1009</td>\n",
       "      <td>0.565490</td>\n",
       "      <td>0.548135</td>\n",
       "      <td>0.551531</td>\n",
       "      <td>0.876778</td>\n",
       "    </tr>\n",
       "  </tbody>\n",
       "</table>\n",
       "</div>"
      ],
      "text/plain": [
       "   FIPS  Death_Pct  RF_Predicted_Pct  LR_Predicted_Pct  LSTM_Predicted_Pct\n",
       "0  1001   0.587088          0.570842          0.456893            0.919261\n",
       "1  1003   0.505299          0.485169          0.350736            0.825079\n",
       "2  1005   0.518513          0.530603          0.694349            0.812359\n",
       "3  1007   0.558185          0.566674          0.678113            0.808213\n",
       "4  1009   0.565490          0.548135          0.551531            0.876778"
      ]
     },
     "execution_count": 11,
     "metadata": {},
     "output_type": "execute_result"
    }
   ],
   "source": [
    "df_3mo_cum.head()"
   ]
  },
  {
   "cell_type": "code",
   "execution_count": 12,
   "id": "83bc8635",
   "metadata": {},
   "outputs": [],
   "source": [
    "df_3mo_cum['RF_diff_Pct'] = (df_3mo_cum['Death_Pct'] - df_3mo_cum['RF_Predicted_Pct'])\n",
    "df_3mo_cum['LR_diff_Pct'] = (df_3mo_cum['Death_Pct'] - df_3mo_cum['LR_Predicted_Pct'])\n",
    "df_3mo['LSTM_diff_Pct'] = (df_3mo['Death_Pct'] - df_3mo['LSTM_Predicted_Pct'])"
   ]
  },
  {
   "cell_type": "code",
   "execution_count": 13,
   "id": "5af19726",
   "metadata": {},
   "outputs": [
    {
     "data": {
      "image/png": "[encoded data removed]",
      "text/plain": [
       "<Figure size 432x288 with 1 Axes>"
      ]
     },
     "metadata": {
      "needs_background": "light"
     },
     "output_type": "display_data"
    }
   ],
   "source": [
    "plt.hist(df_3mo_cum['LR_diff_Pct'], bins=20, density=True, alpha=0.6, label='Linear Regression')\n",
    "plt.hist(df_3mo_cum['RF_diff_Pct'], bins=20, density=True, alpha=0.6, label='Random Forest')\n",
    "plt.hist(df_1mo['LSTM_diff_Pct'], bins=20, density=True, alpha=0.6, label='LSTM')\n",
    "\n",
    "plt.xlabel('Difference From Actual Death Percentage(%)')\n",
    "plt.ylabel('Density')\n",
    "plt.title('Performance Between Models -  3 Months Cumulative')\n",
    "plt.legend(loc='upper right')\n",
    "plt.show()"
   ]
  },
  {
   "cell_type": "code",
   "execution_count": 14,
   "id": "4dce31c5",
   "metadata": {},
   "outputs": [],
   "source": [
    "# Park County, CO, FIPS = 8093\n",
    "# Death numbers - 15, 16, 17\n",
    "df_3mo_8093 = df_3mo[df_3mo['FIPS'] == 8093]\n",
    "\n",
    "# Los Angeles County, CA, FIPS = 6037\n",
    "# Deaths Numbers (Apr - Jun): 8040, 8214, 8406\n",
    "df_3mo_6037 = df_3mo[df_3mo['FIPS'] == 6037]\n",
    "\n",
    "df_3mo_8093.set_index('Date', inplace=True)"
   ]
  },
  {
   "cell_type": "code",
   "execution_count": 15,
   "id": "5ec3de46",
   "metadata": {},
   "outputs": [
    {
     "data": {
      "text/plain": [
       "<matplotlib.legend.Legend at 0x7f7880a2a370>"
      ]
     },
     "execution_count": 15,
     "metadata": {},
     "output_type": "execute_result"
    },
    {
     "data": {
      "image/png": "[encoded data removed]",
      "text/plain": [
       "<Figure size 720x432 with 1 Axes>"
      ]
     },
     "metadata": {
      "needs_background": "light"
     },
     "output_type": "display_data"
    }
   ],
   "source": [
    "plt.figure(figsize=(10, 6))\n",
    "plt.plot(df_3mo_8093['Death_Pct'], label='Actual Death', color='red')\n",
    "plt.plot(df_3mo_8093['RF_Predicted_Pct'], label='Random Forest', color='blue')\n",
    "plt.plot(df_3mo_8093['LR_Predicted_Pct'], label='Linear Regression', color='green')\n",
    "plt.plot(df_3mo_8093['LSTM_Predicted_Pct'], label='LSTM', color='orange')\n",
    "\n",
    "plt.title('Death Percentage and Predictions Over Time - Park County, CO')\n",
    "plt.xlabel('Date')\n",
    "plt.ylabel('Percentage')\n",
    "plt.legend(loc='lower right')"
   ]
  },
  {
   "cell_type": "code",
   "execution_count": 16,
   "id": "90a5cbe0",
   "metadata": {},
   "outputs": [],
   "source": [
    "df_3mo_6037.set_index('Date', inplace=True)"
   ]
  },
  {
   "cell_type": "code",
   "execution_count": 17,
   "id": "4e15337c",
   "metadata": {},
   "outputs": [
    {
     "data": {
      "text/plain": [
       "<matplotlib.legend.Legend at 0x7f78937b4160>"
      ]
     },
     "execution_count": 17,
     "metadata": {},
     "output_type": "execute_result"
    },
    {
     "data": {
      "image/png": "[encoded data removed]",
      "text/plain": [
       "<Figure size 720x432 with 1 Axes>"
      ]
     },
     "metadata": {
      "needs_background": "light"
     },
     "output_type": "display_data"
    }
   ],
   "source": [
    "plt.figure(figsize=(10, 6))\n",
    "plt.plot(df_3mo_6037['Death_Pct'], label='Actual Death', color='red')\n",
    "plt.plot(df_3mo_6037['RF_Predicted_Pct'], label='Random Forest', color='blue')\n",
    "plt.plot(df_3mo_6037['LR_Predicted_Pct'], label='Linear Regression', color='green')\n",
    "plt.plot(df_3mo_6037['LSTM_Predicted_Pct'], label='LSTM', color='orange')\n",
    "\n",
    "plt.title('Death Percentage and Predictions Over Time - Los Angeles County, CA')\n",
    "plt.xlabel('Date')\n",
    "plt.ylabel('Percentage')\n",
    "plt.legend(loc='lower right')"
   ]
  },
  {
   "cell_type": "code",
   "execution_count": null,
   "id": "bb278192",
   "metadata": {},
   "outputs": [],
   "source": []
  }
 ],
 "metadata": {
  "kernelspec": {
   "display_name": "Python 3 (ipykernel)",
   "language": "python",
   "name": "python3"
  },
  "language_info": {
   "codemirror_mode": {
    "name": "ipython",
    "version": 3
   },
   "file_extension": ".py",
   "mimetype": "text/x-python",
   "name": "python",
   "nbconvert_exporter": "python",
   "pygments_lexer": "ipython3",
   "version": "3.9.12"
  }
 },
 "nbformat": 4,
 "nbformat_minor": 5
}
